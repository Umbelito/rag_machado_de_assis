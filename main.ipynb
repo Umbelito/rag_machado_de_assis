{
 "cells": [
  {
   "cell_type": "markdown",
   "id": "64618cbc",
   "metadata": {},
   "source": [
    "```text\n",
    "┌────────────┐\n",
    "│ Entrada do │\n",
    "│  Usuário   │◄────┐\n",
    "└────┬───────┘     │\n",
    "     ▼             │\n",
    "┌────────────┐     │\n",
    "│ Embeddings │     │\n",
    "│ da Pergunta│     │\n",
    "└────┬───────┘     │\n",
    "     │             │\n",
    "     ▼             ▼\n",
    "┌──────────────────────────────┐\n",
    "│ Busca no Banco Vetorial      │\n",
    "│ (Ex: Chroma, FAISS, Weaviate)│\n",
    "└────┬─────────────────────────┘\n",
    "     ▼\n",
    "┌──────────────────────┐\n",
    "│ Contexto Recuperado  │\n",
    "└────────┬─────────────┘\n",
    "         ▼\n",
    "┌────────────────────────────┐\n",
    "│ Prompt Final =             │\n",
    "│ [Contexto Recuperado +     │\n",
    "│ Pergunta Original]         │\n",
    "└────────┬───────────────────┘\n",
    "         ▼\n",
    "┌──────────────────────┐\n",
    "│ LLM Local (TinyLLaMA,│\n",
    "│ DistilGPT2, etc.)    │\n",
    "└────────┬─────────────┘\n",
    "         ▼\n",
    "┌──────────────────────┐\n",
    "│  Resposta Gerada     │\n",
    "└──────────────────────┘\n",
    "\n"
   ]
  },
  {
   "cell_type": "markdown",
   "id": "070745c7",
   "metadata": {},
   "source": [
    "```text\n",
    "🧰 Stack Recomendado\n",
    "\n",
    "🔹 LLM Local\n",
    "    🔹 TinyLLaMA \n",
    "    🔹 Via ollama\n",
    "\n",
    "🔹 Embeddings\n",
    "    🔹 sentence-transformers (modelo all-MiniLM-L6-v2 ou menor)\n",
    "\n",
    "🔹 Vetor DB\n",
    "    🔹Chroma\n",
    "\n",
    "🔹 Orquestração e RAG\n",
    "    🔹LangChain ou LlamaIndex\n",
    "\n",
    "🔹 Linguagem\n",
    "    🔹Python"
   ]
  }
 ],
 "metadata": {
  "kernelspec": {
   "display_name": ".rag",
   "language": "python",
   "name": "python3"
  },
  "language_info": {
   "codemirror_mode": {
    "name": "ipython",
    "version": 3
   },
   "file_extension": ".py",
   "mimetype": "text/x-python",
   "name": "python",
   "nbconvert_exporter": "python",
   "pygments_lexer": "ipython3",
   "version": "3.12.3"
  }
 },
 "nbformat": 4,
 "nbformat_minor": 5
}
